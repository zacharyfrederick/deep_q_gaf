{
 "cells": [
  {
   "cell_type": "code",
   "execution_count": 1,
   "metadata": {},
   "outputs": [
    {
     "name": "stderr",
     "output_type": "stream",
     "text": [
      "/Users/zacharyfrederick/opt/anaconda3/lib/python3.7/site-packages/pyfolio/pos.py:27: UserWarning: Module \"zipline.assets\" not found; mutltipliers will not be applied to position notionals.\n",
      "  'Module \"zipline.assets\" not found; mutltipliers will not be applied' +\n"
     ]
    }
   ],
   "source": [
    "import pandas as pd \n",
    "import numpy as np\n",
    "import pyfolio "
   ]
  },
  {
   "cell_type": "code",
   "execution_count": 5,
   "metadata": {},
   "outputs": [],
   "source": [
    "benchmark_data = pd.read_csv('../data/raw/gspc.csv')"
   ]
  },
  {
   "cell_type": "code",
   "execution_count": 46,
   "metadata": {},
   "outputs": [
    {
     "name": "stdout",
     "output_type": "stream",
     "text": [
      "            pct_change\n",
      "dates                 \n",
      "1990-03-13    0.002190\n",
      "1990-03-14   -0.007884\n",
      "1990-03-15    0.002589\n",
      "1990-03-16    0.003562\n",
      "1990-03-19    0.011359\n",
      "...                ...\n",
      "2020-03-03    0.041079\n",
      "2020-03-04   -0.016377\n",
      "2020-03-05    0.009833\n",
      "2020-03-06   -0.039503\n",
      "2020-03-09   -0.030570\n",
      "\n",
      "[7556 rows x 1 columns]\n"
     ]
    }
   ],
   "source": [
    "returns = pd.DataFrame()\n",
    "returns['dates'] = benchmark_data['Date']\n",
    "returns['pct_change'] = benchmark_data['Open'].pct_change()\n",
    "returns.dropna(inplace=True)\n",
    "returns.to_csv('../data/s&p.csv', index=True)\n",
    "print(returns)"
   ]
  },
  {
   "cell_type": "code",
   "execution_count": null,
   "metadata": {},
   "outputs": [],
   "source": []
  },
  {
   "cell_type": "code",
   "execution_count": null,
   "metadata": {},
   "outputs": [],
   "source": []
  },
  {
   "cell_type": "code",
   "execution_count": null,
   "metadata": {},
   "outputs": [],
   "source": []
  }
 ],
 "metadata": {
  "kernelspec": {
   "display_name": "Python 3",
   "language": "python",
   "name": "python3"
  },
  "language_info": {
   "codemirror_mode": {
    "name": "ipython",
    "version": 3
   },
   "file_extension": ".py",
   "mimetype": "text/x-python",
   "name": "python",
   "nbconvert_exporter": "python",
   "pygments_lexer": "ipython3",
   "version": "3.7.6"
  }
 },
 "nbformat": 4,
 "nbformat_minor": 2
}
